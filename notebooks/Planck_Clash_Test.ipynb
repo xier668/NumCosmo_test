{
 "cells": [
  {
   "cell_type": "markdown",
   "metadata": {},
   "source": [
    "---\n",
    "**License**\n",
    "\n",
    " Planck_Clash_Test\n",
    "\n",
    " Fri Jan 27 15:39:00 2023\\\n",
    " Copyright  2023\\\n",
    " Cinthia Nunes de Lima <cinthia.n.lima@uel.br> \\\n",
    " Mariana Penna-Lima     <pennalima@gmail.com> \n",
    "\n",
    "---\n",
    "---\n",
    "\n",
    " Planck_Clash_Test\\\n",
    " Copyright (C) 2023 Cinthia Nunes de Lima <cinthia.n.lima@uel.br>, Mariana Penna-Lima <pennalima@gmail.com>.\n",
    "\n",
    " numcosmo is free software: you can redistribute it and/or modify it\n",
    " under the terms of the GNU General Public License as published by the\n",
    " Free Software Foundation, either version 3 of the License, or\n",
    " (at your option) any later version.\n",
    "\n",
    " numcosmo is distributed in the hope that it will be useful, but\n",
    " WITHOUT ANY WARRANTY; without even the implied warranty of\n",
    " MERCHANTABILITY or FITNESS FOR A PARTICULAR PURPOSE.\n",
    " See the GNU General Public License for more details.\n",
    "\n",
    " You should have received a copy of the GNU General Public License along\n",
    " with this program.  If not, see <http://www.gnu.org/licenses/>.\n",
    " \n",
    "---"
   ]
  },
  {
   "cell_type": "code",
   "execution_count": 1,
   "metadata": {},
   "outputs": [],
   "source": [
    "try:\n",
    "  import gi\n",
    "  gi.require_version('NumCosmo', '1.0')\n",
    "  gi.require_version('NumCosmoMath', '1.0')\n",
    "except:\n",
    "  pass\n",
    "\n",
    "from gi.repository import GObject\n",
    "from gi.repository import NumCosmo as Nc\n",
    "from gi.repository import NumCosmoMath as Ncm\n",
    "\n",
    "import pyccl as ccl\n",
    "\n",
    "import sys\n",
    "import numpy as np\n",
    "import math\n",
    "import matplotlib.pyplot as plt\n"
   ]
  },
  {
   "cell_type": "code",
   "execution_count": 2,
   "metadata": {},
   "outputs": [],
   "source": [
    "Ncm.cfg_init ()\n",
    "Ncm.cfg_set_log_handler (lambda msg: sys.stdout.write (msg) and sys.stdout.flush ())"
   ]
  },
  {
   "cell_type": "code",
   "execution_count": 3,
   "metadata": {},
   "outputs": [],
   "source": [
    "#Cosmological constants\n",
    "Omega_c = 0.262 \n",
    "Omega_b = 0.049 \n",
    "Omega_k = 0.0 \n",
    "H0      = 67.66  \n",
    "Tcmb0   = 2.7255 \n",
    "A_s     = 2.1e-9 \n",
    "sigma8  = 0.8277 \n",
    "n_s     = 0.96 \n",
    "Neff    = 0.0 \n",
    "w0      = -1.0 \n",
    "wa      = 0.0\n",
    "\n",
    "Tinker_lin_interp = True"
   ]
  },
  {
   "cell_type": "code",
   "execution_count": 4,
   "metadata": {
    "scrolled": false
   },
   "outputs": [],
   "source": [
    "# NumCosmo Cosmology\n",
    "\n",
    "#Cosmology object\n",
    "cosmo = Nc.HICosmo.new_from_name (Nc.HICosmo, \"NcHICosmoDECpl{'massnu-length':<0>}\")\n",
    "cosmo.omega_x2omega_k ()\n",
    "cosmo.param_set_by_name (\"H0\",        H0)\n",
    "cosmo.param_set_by_name (\"Omegak\",    Omega_k)\n",
    "cosmo.param_set_by_name (\"w0\",        w0)\n",
    "cosmo.param_set_by_name (\"w1\",        wa)\n",
    "cosmo.param_set_by_name (\"Omegab\",    Omega_b)\n",
    "cosmo.param_set_by_name (\"Omegac\",    Omega_c)\n",
    "cosmo.param_set_by_name (\"Tgamma0\",   Tcmb0)\n",
    "\n",
    "#Homogeneous and isotropic object\n",
    "hiprim = Nc.HIPrimPowerLaw.new ()\n",
    "hiprim.param_set_by_name (\"ln10e10ASA\", math.log (1.0e10 * A_s))\n",
    "hiprim.param_set_by_name (\"n_SA\",       n_s)\n",
    "\n",
    "cosmo.add_submodel (hiprim)\n",
    "\n",
    "#Distance\n",
    "dist = Nc.Distance.new (3.0)\n",
    "dist.prepare (cosmo)\n",
    "\n",
    "#Transfer function\n",
    "tf = Nc.TransferFunc.new_from_name (\"NcTransferFuncEH\")\n",
    "\n",
    "psml = Nc.PowspecMLTransfer.new (tf)\n",
    "psml.require_kmin (1.0e-3)\n",
    "psml.require_kmax (1.0e3)\n",
    "\n",
    "#Power spectrum\n",
    "psf = Ncm.PowspecFilter.new (psml, Ncm.PowspecFilterType.TOPHAT)\n",
    "psf.set_best_lnr0 ()"
   ]
  },
  {
   "cell_type": "code",
   "execution_count": 5,
   "metadata": {},
   "outputs": [],
   "source": [
    "#Mass function\n",
    "\n",
    "mulf = Nc.MultiplicityFuncTinker.new ()\n",
    "mulf.set_linear_interp (Tinker_lin_interp)\n",
    "mulf.set_mdef (Nc.MultiplicityFuncMassDef.MEAN)\n",
    "mulf.set_Delta (500.0)\n",
    "\n",
    "mf = Nc.HaloMassFunction.new (dist, psf, mulf)"
   ]
  },
  {
   "cell_type": "code",
   "execution_count": 6,
   "metadata": {},
   "outputs": [
    {
     "name": "stdout",
     "output_type": "stream",
     "text": [
      "[1.3838965267367376e-87, 1.3838965267367376e-87, 1.3838965267367376e-87, 1.3838965267367376e-87, 1.3838965267367376e-87, 1.3838965267367376e-87]\n"
     ]
    },
    {
     "data": {
      "text/plain": [
       "[<matplotlib.lines.Line2D at 0x7f3a981f6f40>]"
      ]
     },
     "execution_count": 6,
     "metadata": {},
     "output_type": "execute_result"
    },
    {
     "data": {
      "image/png": "[encoded data removed]",
      "text/plain": [
       "<Figure size 432x288 with 1 Axes>"
      ]
     },
     "metadata": {
      "needs_background": "light"
     },
     "output_type": "display_data"
    }
   ],
   "source": [
    "clusterm = Nc.ClusterMass.new_from_name (\"NcClusterMassPlCL{'M0':<5.7e14>}\")\n",
    "\n",
    "clusterm.param_set_by_name ('Asz', 1.00)\n",
    "clusterm.param_set_by_name ('Bsz', 0.25)\n",
    "clusterm.param_set_by_name ('sigma_sz', 0.12)\n",
    "clusterm.param_set_by_name ('Al', 1.00)\n",
    "clusterm.param_set_by_name ('Bl', 0.0)\n",
    "clusterm.param_set_by_name ('sigma_l', 0.27)\n",
    "clusterm.param_set_by_name ('cor', 0.0)\n",
    "\n",
    "ln_true_mass = np.log(5e14)\n",
    "lnm_sz = np.log(np.array([5e1, 2.1e14, 3.8e14, 3.2e14, 2.7e14, 2.4e14]))\n",
    "lnm_l = np.log(np.array([3.6e1, 3.0e14, 3.1e14, 5.8e14, 8.2e14, 3.7e14]))\n",
    "\n",
    "plcl_pdf = [clusterm.plcl_pdf_only_lognormal(ln_true_mass, lnmsz, lnml) for lnmsz, lnml in zip(lnm_sz,lnm_l) ]\n",
    "print(plcl_pdf)\n",
    "plt.plot(plcl_pdf)"
   ]
  },
  {
   "cell_type": "code",
   "execution_count": null,
   "metadata": {},
   "outputs": [],
   "source": []
  },
  {
   "cell_type": "code",
   "execution_count": null,
   "metadata": {},
   "outputs": [],
   "source": []
  }
 ],
 "metadata": {
  "kernelspec": {
   "display_name": "Python 3 (ipykernel)",
   "language": "python",
   "name": "python3"
  },
  "language_info": {
   "codemirror_mode": {
    "name": "ipython",
    "version": 3
   },
   "file_extension": ".py",
   "mimetype": "text/x-python",
   "name": "python",
   "nbconvert_exporter": "python",
   "pygments_lexer": "ipython3",
   "version": "3.8.10"
  }
 },
 "nbformat": 4,
 "nbformat_minor": 4
}
